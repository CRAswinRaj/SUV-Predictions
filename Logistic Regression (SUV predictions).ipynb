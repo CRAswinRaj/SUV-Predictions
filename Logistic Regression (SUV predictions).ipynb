{
 "cells": [
  {
   "cell_type": "markdown",
   "metadata": {},
   "source": [
    "## Collecting data"
   ]
  },
  {
   "cell_type": "code",
   "execution_count": 1,
   "metadata": {},
   "outputs": [],
   "source": [
    "import pandas as pd \n",
    "import seaborn as sns"
   ]
  },
  {
   "cell_type": "code",
   "execution_count": 2,
   "metadata": {},
   "outputs": [],
   "source": [
    "dataset = pd.read_csv('SUV_data.csv')"
   ]
  },
  {
   "cell_type": "markdown",
   "metadata": {},
   "source": [
    "## Analysing data"
   ]
  },
  {
   "cell_type": "code",
   "execution_count": 3,
   "metadata": {},
   "outputs": [
    {
     "data": {
      "text/html": [
       "<div>\n",
       "<style scoped>\n",
       "    .dataframe tbody tr th:only-of-type {\n",
       "        vertical-align: middle;\n",
       "    }\n",
       "\n",
       "    .dataframe tbody tr th {\n",
       "        vertical-align: top;\n",
       "    }\n",
       "\n",
       "    .dataframe thead th {\n",
       "        text-align: right;\n",
       "    }\n",
       "</style>\n",
       "<table border=\"1\" class=\"dataframe\">\n",
       "  <thead>\n",
       "    <tr style=\"text-align: right;\">\n",
       "      <th></th>\n",
       "      <th>User ID</th>\n",
       "      <th>Gender</th>\n",
       "      <th>Age</th>\n",
       "      <th>EstimatedSalary</th>\n",
       "      <th>Purchased</th>\n",
       "    </tr>\n",
       "  </thead>\n",
       "  <tbody>\n",
       "    <tr>\n",
       "      <th>0</th>\n",
       "      <td>15624510</td>\n",
       "      <td>Male</td>\n",
       "      <td>19</td>\n",
       "      <td>19000</td>\n",
       "      <td>0</td>\n",
       "    </tr>\n",
       "    <tr>\n",
       "      <th>1</th>\n",
       "      <td>15810944</td>\n",
       "      <td>Male</td>\n",
       "      <td>35</td>\n",
       "      <td>20000</td>\n",
       "      <td>0</td>\n",
       "    </tr>\n",
       "    <tr>\n",
       "      <th>2</th>\n",
       "      <td>15668575</td>\n",
       "      <td>Female</td>\n",
       "      <td>26</td>\n",
       "      <td>43000</td>\n",
       "      <td>0</td>\n",
       "    </tr>\n",
       "    <tr>\n",
       "      <th>3</th>\n",
       "      <td>15603246</td>\n",
       "      <td>Female</td>\n",
       "      <td>27</td>\n",
       "      <td>57000</td>\n",
       "      <td>0</td>\n",
       "    </tr>\n",
       "    <tr>\n",
       "      <th>4</th>\n",
       "      <td>15804002</td>\n",
       "      <td>Male</td>\n",
       "      <td>19</td>\n",
       "      <td>76000</td>\n",
       "      <td>0</td>\n",
       "    </tr>\n",
       "  </tbody>\n",
       "</table>\n",
       "</div>"
      ],
      "text/plain": [
       "    User ID  Gender  Age  EstimatedSalary  Purchased\n",
       "0  15624510    Male   19            19000          0\n",
       "1  15810944    Male   35            20000          0\n",
       "2  15668575  Female   26            43000          0\n",
       "3  15603246  Female   27            57000          0\n",
       "4  15804002    Male   19            76000          0"
      ]
     },
     "execution_count": 3,
     "metadata": {},
     "output_type": "execute_result"
    }
   ],
   "source": [
    "dataset.head()"
   ]
  },
  {
   "cell_type": "code",
   "execution_count": 4,
   "metadata": {},
   "outputs": [
    {
     "data": {
      "text/plain": [
       "<matplotlib.axes._subplots.AxesSubplot at 0x7f8727d29760>"
      ]
     },
     "execution_count": 4,
     "metadata": {},
     "output_type": "execute_result"
    },
    {
     "data": {
      "image/png": "[encoded data removed]",
      "text/plain": [
       "<Figure size 432x288 with 1 Axes>"
      ]
     },
     "metadata": {
      "needs_background": "light"
     },
     "output_type": "display_data"
    }
   ],
   "source": [
    "sns.countplot(data=dataset, x='Purchased', hue='Gender')"
   ]
  },
  {
   "cell_type": "code",
   "execution_count": 5,
   "metadata": {},
   "outputs": [
    {
     "data": {
      "text/plain": [
       "<matplotlib.axes._subplots.AxesSubplot at 0x7f8725c76490>"
      ]
     },
     "execution_count": 5,
     "metadata": {},
     "output_type": "execute_result"
    },
    {
     "data": {
      "image/png": "[encoded data removed]",
      "text/plain": [
       "<Figure size 432x288 with 1 Axes>"
      ]
     },
     "metadata": {
      "needs_background": "light"
     },
     "output_type": "display_data"
    }
   ],
   "source": [
    "sns.countplot(data=dataset, x='Gender')"
   ]
  },
  {
   "cell_type": "code",
   "execution_count": 6,
   "metadata": {},
   "outputs": [
    {
     "data": {
      "text/plain": [
       "<matplotlib.axes._subplots.AxesSubplot at 0x7f8725762850>"
      ]
     },
     "execution_count": 6,
     "metadata": {},
     "output_type": "execute_result"
    },
    {
     "data": {
      "image/png": "[encoded data removed]",
      "text/plain": [
       "<Figure size 432x288 with 1 Axes>"
      ]
     },
     "metadata": {
      "needs_background": "light"
     },
     "output_type": "display_data"
    }
   ],
   "source": [
    "dataset['Age'].plot.hist()"
   ]
  },
  {
   "cell_type": "code",
   "execution_count": 7,
   "metadata": {},
   "outputs": [
    {
     "data": {
      "text/plain": [
       "<matplotlib.axes._subplots.AxesSubplot at 0x7f87256eb850>"
      ]
     },
     "execution_count": 7,
     "metadata": {},
     "output_type": "execute_result"
    },
    {
     "data": {
      "image/png": "[encoded data removed]",
      "text/plain": [
       "<Figure size 432x288 with 1 Axes>"
      ]
     },
     "metadata": {
      "needs_background": "light"
     },
     "output_type": "display_data"
    }
   ],
   "source": [
    "dataset['EstimatedSalary'].plot.hist()"
   ]
  },
  {
   "cell_type": "markdown",
   "metadata": {},
   "source": [
    "## Data wrangling"
   ]
  },
  {
   "cell_type": "code",
   "execution_count": 8,
   "metadata": {},
   "outputs": [
    {
     "data": {
      "text/html": [
       "<div>\n",
       "<style scoped>\n",
       "    .dataframe tbody tr th:only-of-type {\n",
       "        vertical-align: middle;\n",
       "    }\n",
       "\n",
       "    .dataframe tbody tr th {\n",
       "        vertical-align: top;\n",
       "    }\n",
       "\n",
       "    .dataframe thead th {\n",
       "        text-align: right;\n",
       "    }\n",
       "</style>\n",
       "<table border=\"1\" class=\"dataframe\">\n",
       "  <thead>\n",
       "    <tr style=\"text-align: right;\">\n",
       "      <th></th>\n",
       "      <th>User ID</th>\n",
       "      <th>Gender</th>\n",
       "      <th>Age</th>\n",
       "      <th>EstimatedSalary</th>\n",
       "      <th>Purchased</th>\n",
       "    </tr>\n",
       "  </thead>\n",
       "  <tbody>\n",
       "    <tr>\n",
       "      <th>0</th>\n",
       "      <td>15624510</td>\n",
       "      <td>Male</td>\n",
       "      <td>19</td>\n",
       "      <td>19000</td>\n",
       "      <td>0</td>\n",
       "    </tr>\n",
       "    <tr>\n",
       "      <th>1</th>\n",
       "      <td>15810944</td>\n",
       "      <td>Male</td>\n",
       "      <td>35</td>\n",
       "      <td>20000</td>\n",
       "      <td>0</td>\n",
       "    </tr>\n",
       "    <tr>\n",
       "      <th>2</th>\n",
       "      <td>15668575</td>\n",
       "      <td>Female</td>\n",
       "      <td>26</td>\n",
       "      <td>43000</td>\n",
       "      <td>0</td>\n",
       "    </tr>\n",
       "    <tr>\n",
       "      <th>3</th>\n",
       "      <td>15603246</td>\n",
       "      <td>Female</td>\n",
       "      <td>27</td>\n",
       "      <td>57000</td>\n",
       "      <td>0</td>\n",
       "    </tr>\n",
       "    <tr>\n",
       "      <th>4</th>\n",
       "      <td>15804002</td>\n",
       "      <td>Male</td>\n",
       "      <td>19</td>\n",
       "      <td>76000</td>\n",
       "      <td>0</td>\n",
       "    </tr>\n",
       "  </tbody>\n",
       "</table>\n",
       "</div>"
      ],
      "text/plain": [
       "    User ID  Gender  Age  EstimatedSalary  Purchased\n",
       "0  15624510    Male   19            19000          0\n",
       "1  15810944    Male   35            20000          0\n",
       "2  15668575  Female   26            43000          0\n",
       "3  15603246  Female   27            57000          0\n",
       "4  15804002    Male   19            76000          0"
      ]
     },
     "execution_count": 8,
     "metadata": {},
     "output_type": "execute_result"
    }
   ],
   "source": [
    "dataset.head()"
   ]
  },
  {
   "cell_type": "code",
   "execution_count": 9,
   "metadata": {},
   "outputs": [
    {
     "data": {
      "text/plain": [
       "User ID            0\n",
       "Gender             0\n",
       "Age                0\n",
       "EstimatedSalary    0\n",
       "Purchased          0\n",
       "dtype: int64"
      ]
     },
     "execution_count": 9,
     "metadata": {},
     "output_type": "execute_result"
    }
   ],
   "source": [
    "dataset.isnull().sum()"
   ]
  },
  {
   "cell_type": "code",
   "execution_count": 10,
   "metadata": {},
   "outputs": [
    {
     "data": {
      "text/html": [
       "<div>\n",
       "<style scoped>\n",
       "    .dataframe tbody tr th:only-of-type {\n",
       "        vertical-align: middle;\n",
       "    }\n",
       "\n",
       "    .dataframe tbody tr th {\n",
       "        vertical-align: top;\n",
       "    }\n",
       "\n",
       "    .dataframe thead th {\n",
       "        text-align: right;\n",
       "    }\n",
       "</style>\n",
       "<table border=\"1\" class=\"dataframe\">\n",
       "  <thead>\n",
       "    <tr style=\"text-align: right;\">\n",
       "      <th></th>\n",
       "      <th>Male</th>\n",
       "    </tr>\n",
       "  </thead>\n",
       "  <tbody>\n",
       "    <tr>\n",
       "      <th>0</th>\n",
       "      <td>1</td>\n",
       "    </tr>\n",
       "    <tr>\n",
       "      <th>1</th>\n",
       "      <td>1</td>\n",
       "    </tr>\n",
       "    <tr>\n",
       "      <th>2</th>\n",
       "      <td>0</td>\n",
       "    </tr>\n",
       "    <tr>\n",
       "      <th>3</th>\n",
       "      <td>0</td>\n",
       "    </tr>\n",
       "    <tr>\n",
       "      <th>4</th>\n",
       "      <td>1</td>\n",
       "    </tr>\n",
       "  </tbody>\n",
       "</table>\n",
       "</div>"
      ],
      "text/plain": [
       "   Male\n",
       "0     1\n",
       "1     1\n",
       "2     0\n",
       "3     0\n",
       "4     1"
      ]
     },
     "execution_count": 10,
     "metadata": {},
     "output_type": "execute_result"
    }
   ],
   "source": [
    "Gender = pd.get_dummies(dataset['Gender'], drop_first=True)\n",
    "Gender.head()"
   ]
  },
  {
   "cell_type": "code",
   "execution_count": 11,
   "metadata": {},
   "outputs": [
    {
     "data": {
      "text/html": [
       "<div>\n",
       "<style scoped>\n",
       "    .dataframe tbody tr th:only-of-type {\n",
       "        vertical-align: middle;\n",
       "    }\n",
       "\n",
       "    .dataframe tbody tr th {\n",
       "        vertical-align: top;\n",
       "    }\n",
       "\n",
       "    .dataframe thead th {\n",
       "        text-align: right;\n",
       "    }\n",
       "</style>\n",
       "<table border=\"1\" class=\"dataframe\">\n",
       "  <thead>\n",
       "    <tr style=\"text-align: right;\">\n",
       "      <th></th>\n",
       "      <th>User ID</th>\n",
       "      <th>Gender</th>\n",
       "      <th>Age</th>\n",
       "      <th>EstimatedSalary</th>\n",
       "      <th>Purchased</th>\n",
       "      <th>Male</th>\n",
       "    </tr>\n",
       "  </thead>\n",
       "  <tbody>\n",
       "    <tr>\n",
       "      <th>0</th>\n",
       "      <td>15624510</td>\n",
       "      <td>Male</td>\n",
       "      <td>19</td>\n",
       "      <td>19000</td>\n",
       "      <td>0</td>\n",
       "      <td>1</td>\n",
       "    </tr>\n",
       "    <tr>\n",
       "      <th>1</th>\n",
       "      <td>15810944</td>\n",
       "      <td>Male</td>\n",
       "      <td>35</td>\n",
       "      <td>20000</td>\n",
       "      <td>0</td>\n",
       "      <td>1</td>\n",
       "    </tr>\n",
       "    <tr>\n",
       "      <th>2</th>\n",
       "      <td>15668575</td>\n",
       "      <td>Female</td>\n",
       "      <td>26</td>\n",
       "      <td>43000</td>\n",
       "      <td>0</td>\n",
       "      <td>0</td>\n",
       "    </tr>\n",
       "    <tr>\n",
       "      <th>3</th>\n",
       "      <td>15603246</td>\n",
       "      <td>Female</td>\n",
       "      <td>27</td>\n",
       "      <td>57000</td>\n",
       "      <td>0</td>\n",
       "      <td>0</td>\n",
       "    </tr>\n",
       "    <tr>\n",
       "      <th>4</th>\n",
       "      <td>15804002</td>\n",
       "      <td>Male</td>\n",
       "      <td>19</td>\n",
       "      <td>76000</td>\n",
       "      <td>0</td>\n",
       "      <td>1</td>\n",
       "    </tr>\n",
       "  </tbody>\n",
       "</table>\n",
       "</div>"
      ],
      "text/plain": [
       "    User ID  Gender  Age  EstimatedSalary  Purchased  Male\n",
       "0  15624510    Male   19            19000          0     1\n",
       "1  15810944    Male   35            20000          0     1\n",
       "2  15668575  Female   26            43000          0     0\n",
       "3  15603246  Female   27            57000          0     0\n",
       "4  15804002    Male   19            76000          0     1"
      ]
     },
     "execution_count": 11,
     "metadata": {},
     "output_type": "execute_result"
    }
   ],
   "source": [
    "dataset = pd.concat([dataset, Gender], axis=1)\n",
    "dataset.head()"
   ]
  },
  {
   "cell_type": "markdown",
   "metadata": {},
   "source": [
    "## Test train "
   ]
  },
  {
   "cell_type": "code",
   "execution_count": 12,
   "metadata": {},
   "outputs": [],
   "source": [
    "x = dataset.iloc[:, [2, 3, 5]].values\n",
    "y = dataset.iloc[:, 4].values"
   ]
  },
  {
   "cell_type": "code",
   "execution_count": 13,
   "metadata": {},
   "outputs": [
    {
     "data": {
      "text/plain": [
       "array([[   19, 19000,     1],\n",
       "       [   35, 20000,     1],\n",
       "       [   26, 43000,     0],\n",
       "       ...,\n",
       "       [   50, 20000,     0],\n",
       "       [   36, 33000,     1],\n",
       "       [   49, 36000,     0]])"
      ]
     },
     "execution_count": 13,
     "metadata": {},
     "output_type": "execute_result"
    }
   ],
   "source": [
    "x"
   ]
  },
  {
   "cell_type": "code",
   "execution_count": 14,
   "metadata": {},
   "outputs": [],
   "source": [
    "from sklearn.model_selection import train_test_split"
   ]
  },
  {
   "cell_type": "code",
   "execution_count": 15,
   "metadata": {},
   "outputs": [],
   "source": [
    "x_train, x_test, y_train, y_test = train_test_split(x, y, test_size=0.25, random_state=0)"
   ]
  },
  {
   "cell_type": "code",
   "execution_count": 16,
   "metadata": {},
   "outputs": [
    {
     "data": {
      "text/plain": [
       "array([[    44,  39000,      0],\n",
       "       [    32, 120000,      1],\n",
       "       [    38,  50000,      0],\n",
       "       [    32, 135000,      0],\n",
       "       [    52,  21000,      0],\n",
       "       [    53, 104000,      0],\n",
       "       [    39,  42000,      1],\n",
       "       [    38,  61000,      1],\n",
       "       [    36,  50000,      0],\n",
       "       [    36,  63000,      0],\n",
       "       [    35,  25000,      0],\n",
       "       [    35,  50000,      1],\n",
       "       [    42,  73000,      1],\n",
       "       [    47,  49000,      0],\n",
       "       [    59,  29000,      0],\n",
       "       [    49,  65000,      1],\n",
       "       [    45, 131000,      0],\n",
       "       [    31,  89000,      0],\n",
       "       [    46,  82000,      0],\n",
       "       [    47,  51000,      0],\n",
       "       [    26,  15000,      1],\n",
       "       [    60, 102000,      1],\n",
       "       [    38, 112000,      0],\n",
       "       [    40, 107000,      1],\n",
       "       [    42,  53000,      0],\n",
       "       [    35,  59000,      1],\n",
       "       [    48,  41000,      1],\n",
       "       [    48, 134000,      0],\n",
       "       [    38, 113000,      0],\n",
       "       [    29, 148000,      1],\n",
       "       [    26,  15000,      0],\n",
       "       [    60,  42000,      1],\n",
       "       [    24,  19000,      1],\n",
       "       [    42, 149000,      1],\n",
       "       [    46,  96000,      0],\n",
       "       [    28,  59000,      1],\n",
       "       [    39,  96000,      1],\n",
       "       [    28,  89000,      1],\n",
       "       [    41,  72000,      1],\n",
       "       [    45,  26000,      1],\n",
       "       [    33,  69000,      0],\n",
       "       [    20,  82000,      0],\n",
       "       [    31,  74000,      1],\n",
       "       [    42,  80000,      1],\n",
       "       [    35,  72000,      0],\n",
       "       [    33, 149000,      0],\n",
       "       [    40,  71000,      1],\n",
       "       [    51, 146000,      0],\n",
       "       [    46,  79000,      1],\n",
       "       [    35,  75000,      1],\n",
       "       [    38,  51000,      1],\n",
       "       [    36,  75000,      0],\n",
       "       [    37,  78000,      0],\n",
       "       [    38,  61000,      1],\n",
       "       [    60, 108000,      0],\n",
       "       [    20,  82000,      0],\n",
       "       [    57,  74000,      1],\n",
       "       [    42,  65000,      1],\n",
       "       [    26,  80000,      1],\n",
       "       [    46, 117000,      1],\n",
       "       [    35,  61000,      1],\n",
       "       [    21,  68000,      0],\n",
       "       [    28,  44000,      0],\n",
       "       [    41,  87000,      1],\n",
       "       [    37,  33000,      0],\n",
       "       [    27,  90000,      1],\n",
       "       [    39,  42000,      1],\n",
       "       [    28, 123000,      1],\n",
       "       [    31, 118000,      0],\n",
       "       [    25,  87000,      1],\n",
       "       [    35,  71000,      0],\n",
       "       [    37,  70000,      1],\n",
       "       [    35,  39000,      1],\n",
       "       [    47,  23000,      1],\n",
       "       [    35, 147000,      0],\n",
       "       [    48, 138000,      0],\n",
       "       [    26,  86000,      1],\n",
       "       [    25,  79000,      1],\n",
       "       [    52, 138000,      0],\n",
       "       [    51,  23000,      1],\n",
       "       [    35,  60000,      0],\n",
       "       [    33, 113000,      0],\n",
       "       [    30, 107000,      1],\n",
       "       [    48,  33000,      1],\n",
       "       [    41,  80000,      0],\n",
       "       [    48,  96000,      0],\n",
       "       [    31,  18000,      1],\n",
       "       [    31,  71000,      0],\n",
       "       [    43, 129000,      1],\n",
       "       [    59,  76000,      0],\n",
       "       [    18,  44000,      0],\n",
       "       [    36, 118000,      1],\n",
       "       [    42,  90000,      0],\n",
       "       [    47,  30000,      0],\n",
       "       [    26,  43000,      0],\n",
       "       [    40,  78000,      1],\n",
       "       [    46,  59000,      1],\n",
       "       [    59,  42000,      0],\n",
       "       [    46,  74000,      0],\n",
       "       [    35,  91000,      1],\n",
       "       [    28,  59000,      0],\n",
       "       [    40,  57000,      1],\n",
       "       [    59, 143000,      1],\n",
       "       [    57,  26000,      0],\n",
       "       [    52,  38000,      0],\n",
       "       [    47, 113000,      0],\n",
       "       [    53, 143000,      0],\n",
       "       [    35,  27000,      1],\n",
       "       [    58, 101000,      0],\n",
       "       [    45,  45000,      0],\n",
       "       [    23,  82000,      0],\n",
       "       [    46,  23000,      1],\n",
       "       [    42,  65000,      1],\n",
       "       [    28,  84000,      0],\n",
       "       [    38,  59000,      1],\n",
       "       [    26,  84000,      0],\n",
       "       [    29,  28000,      0],\n",
       "       [    37,  71000,      0],\n",
       "       [    22,  55000,      0],\n",
       "       [    48,  35000,      0],\n",
       "       [    49,  28000,      1],\n",
       "       [    38,  65000,      0],\n",
       "       [    27,  17000,      0],\n",
       "       [    46,  28000,      1],\n",
       "       [    48, 141000,      1],\n",
       "       [    26,  17000,      0],\n",
       "       [    35,  97000,      0],\n",
       "       [    39,  59000,      0],\n",
       "       [    24,  27000,      0],\n",
       "       [    32,  18000,      1],\n",
       "       [    46,  88000,      1],\n",
       "       [    35,  58000,      1],\n",
       "       [    56,  60000,      1],\n",
       "       [    47,  34000,      1],\n",
       "       [    40,  72000,      0],\n",
       "       [    32, 100000,      1],\n",
       "       [    19,  21000,      0],\n",
       "       [    25,  90000,      1],\n",
       "       [    35,  88000,      1],\n",
       "       [    28,  32000,      1],\n",
       "       [    50,  20000,      0],\n",
       "       [    40,  59000,      1],\n",
       "       [    50,  44000,      0],\n",
       "       [    35,  72000,      1],\n",
       "       [    40, 142000,      0],\n",
       "       [    46,  32000,      0],\n",
       "       [    39,  71000,      0],\n",
       "       [    20,  74000,      1],\n",
       "       [    29,  75000,      1],\n",
       "       [    31,  76000,      1],\n",
       "       [    47,  25000,      1],\n",
       "       [    40,  61000,      1],\n",
       "       [    34, 112000,      1],\n",
       "       [    38,  80000,      0],\n",
       "       [    42,  75000,      0],\n",
       "       [    47,  47000,      0],\n",
       "       [    39,  75000,      0],\n",
       "       [    19,  25000,      1],\n",
       "       [    37,  80000,      0],\n",
       "       [    36,  60000,      1],\n",
       "       [    41,  52000,      1],\n",
       "       [    36, 125000,      1],\n",
       "       [    48,  29000,      0],\n",
       "       [    36, 126000,      0],\n",
       "       [    51, 134000,      0],\n",
       "       [    27,  57000,      0],\n",
       "       [    38,  71000,      1],\n",
       "       [    39,  61000,      0],\n",
       "       [    22,  27000,      0],\n",
       "       [    33,  60000,      0],\n",
       "       [    48,  74000,      1],\n",
       "       [    58,  23000,      0],\n",
       "       [    53,  72000,      1],\n",
       "       [    32, 117000,      0],\n",
       "       [    54,  70000,      1],\n",
       "       [    30,  80000,      1],\n",
       "       [    58,  95000,      0],\n",
       "       [    26,  52000,      0],\n",
       "       [    45,  79000,      1],\n",
       "       [    24,  55000,      1],\n",
       "       [    40,  75000,      1],\n",
       "       [    33,  28000,      0],\n",
       "       [    44, 139000,      0],\n",
       "       [    22,  18000,      1],\n",
       "       [    33,  51000,      0],\n",
       "       [    43, 133000,      0],\n",
       "       [    24,  32000,      0],\n",
       "       [    46,  22000,      0],\n",
       "       [    35,  55000,      1],\n",
       "       [    54, 104000,      0],\n",
       "       [    48, 119000,      0],\n",
       "       [    35,  53000,      1],\n",
       "       [    37, 144000,      1],\n",
       "       [    23,  66000,      0],\n",
       "       [    37, 137000,      0],\n",
       "       [    31,  58000,      1],\n",
       "       [    33,  41000,      0],\n",
       "       [    45,  22000,      0],\n",
       "       [    30,  15000,      1],\n",
       "       [    19,  19000,      1],\n",
       "       [    49,  74000,      1],\n",
       "       [    39, 122000,      1],\n",
       "       [    35,  73000,      1],\n",
       "       [    39,  71000,      1],\n",
       "       [    24,  23000,      1],\n",
       "       [    41,  72000,      0],\n",
       "       [    29,  83000,      0],\n",
       "       [    54,  26000,      0],\n",
       "       [    35,  44000,      0],\n",
       "       [    37,  75000,      1],\n",
       "       [    29,  47000,      0],\n",
       "       [    31,  68000,      0],\n",
       "       [    42,  54000,      1],\n",
       "       [    30, 135000,      1],\n",
       "       [    52, 114000,      0],\n",
       "       [    50,  36000,      0],\n",
       "       [    56, 133000,      1],\n",
       "       [    29,  61000,      1],\n",
       "       [    30,  89000,      1],\n",
       "       [    26,  16000,      1],\n",
       "       [    33,  31000,      1],\n",
       "       [    41,  72000,      0],\n",
       "       [    36,  33000,      1],\n",
       "       [    55, 125000,      0],\n",
       "       [    48, 131000,      0],\n",
       "       [    41,  71000,      0],\n",
       "       [    30,  62000,      0],\n",
       "       [    37,  72000,      1],\n",
       "       [    41,  63000,      0],\n",
       "       [    58,  47000,      0],\n",
       "       [    30, 116000,      0],\n",
       "       [    20,  49000,      1],\n",
       "       [    37,  74000,      1],\n",
       "       [    41,  59000,      1],\n",
       "       [    49,  89000,      1],\n",
       "       [    28,  79000,      1],\n",
       "       [    53,  82000,      0],\n",
       "       [    40,  57000,      1],\n",
       "       [    60,  34000,      1],\n",
       "       [    35, 108000,      1],\n",
       "       [    21,  72000,      1],\n",
       "       [    38,  71000,      1],\n",
       "       [    39, 106000,      1],\n",
       "       [    37,  57000,      0],\n",
       "       [    26,  72000,      0],\n",
       "       [    35,  23000,      0],\n",
       "       [    54, 108000,      0],\n",
       "       [    30,  17000,      1],\n",
       "       [    39, 134000,      1],\n",
       "       [    29,  43000,      1],\n",
       "       [    33,  43000,      1],\n",
       "       [    35,  38000,      1],\n",
       "       [    41,  45000,      1],\n",
       "       [    41,  72000,      0],\n",
       "       [    39, 134000,      0],\n",
       "       [    27, 137000,      0],\n",
       "       [    21,  16000,      0],\n",
       "       [    26,  32000,      1],\n",
       "       [    31,  66000,      1],\n",
       "       [    39,  73000,      0],\n",
       "       [    41,  79000,      1],\n",
       "       [    47,  50000,      0],\n",
       "       [    41,  30000,      0],\n",
       "       [    37,  93000,      0],\n",
       "       [    60,  46000,      0],\n",
       "       [    25,  22000,      1],\n",
       "       [    28,  37000,      0],\n",
       "       [    38,  55000,      0],\n",
       "       [    36,  54000,      0],\n",
       "       [    20,  36000,      0],\n",
       "       [    56, 104000,      0],\n",
       "       [    40,  57000,      1],\n",
       "       [    42, 108000,      0],\n",
       "       [    20,  23000,      0],\n",
       "       [    40,  65000,      1],\n",
       "       [    47,  20000,      1],\n",
       "       [    18,  86000,      0],\n",
       "       [    35,  79000,      1],\n",
       "       [    57,  33000,      0],\n",
       "       [    34,  72000,      0],\n",
       "       [    49,  39000,      0],\n",
       "       [    27,  31000,      0],\n",
       "       [    19,  70000,      1],\n",
       "       [    39,  79000,      0],\n",
       "       [    26,  81000,      1],\n",
       "       [    25,  80000,      1],\n",
       "       [    28,  85000,      0],\n",
       "       [    55,  39000,      1],\n",
       "       [    50,  88000,      0],\n",
       "       [    49,  88000,      1],\n",
       "       [    52, 150000,      1],\n",
       "       [    35,  65000,      0],\n",
       "       [    42,  54000,      1],\n",
       "       [    34,  43000,      1],\n",
       "       [    37,  52000,      1],\n",
       "       [    48,  30000,      0],\n",
       "       [    29,  43000,      1],\n",
       "       [    36,  52000,      1],\n",
       "       [    27,  54000,      0],\n",
       "       [    26, 118000,      0]])"
      ]
     },
     "execution_count": 16,
     "metadata": {},
     "output_type": "execute_result"
    }
   ],
   "source": [
    "x_train"
   ]
  },
  {
   "cell_type": "code",
   "execution_count": 17,
   "metadata": {},
   "outputs": [],
   "source": [
    "from sklearn.preprocessing import StandardScaler"
   ]
  },
  {
   "cell_type": "code",
   "execution_count": 18,
   "metadata": {},
   "outputs": [],
   "source": [
    "sc = StandardScaler()"
   ]
  },
  {
   "cell_type": "code",
   "execution_count": 19,
   "metadata": {},
   "outputs": [],
   "source": [
    "x_train = sc.fit_transform(x_train)\n",
    "x_test = sc.transform(x_test)"
   ]
  },
  {
   "cell_type": "code",
   "execution_count": 20,
   "metadata": {},
   "outputs": [
    {
     "data": {
      "text/plain": [
       "array([[ 0.58164944, -0.88670699, -0.98019606],\n",
       "       [-0.60673761,  1.46173768,  1.02020406],\n",
       "       [-0.01254409, -0.5677824 , -0.98019606],\n",
       "       [-0.60673761,  1.89663484, -0.98019606],\n",
       "       [ 1.37390747, -1.40858358, -0.98019606],\n",
       "       [ 1.47293972,  0.99784738, -0.98019606],\n",
       "       [ 0.08648817, -0.79972756,  1.02020406],\n",
       "       [-0.01254409, -0.24885782,  1.02020406],\n",
       "       [-0.21060859, -0.5677824 , -0.98019606],\n",
       "       [-0.21060859, -0.19087153, -0.98019606],\n",
       "       [-0.30964085, -1.29261101, -0.98019606],\n",
       "       [-0.30964085, -0.5677824 ,  1.02020406],\n",
       "       [ 0.38358493,  0.09905991,  1.02020406],\n",
       "       [ 0.8787462 , -0.59677555, -0.98019606],\n",
       "       [ 2.06713324, -1.17663843, -0.98019606],\n",
       "       [ 1.07681071, -0.13288524,  1.02020406],\n",
       "       [ 0.68068169,  1.78066227, -0.98019606],\n",
       "       [-0.70576986,  0.56295021, -0.98019606],\n",
       "       [ 0.77971394,  0.35999821, -0.98019606],\n",
       "       [ 0.8787462 , -0.53878926, -0.98019606],\n",
       "       [-1.20093113, -1.58254245,  1.02020406],\n",
       "       [ 2.1661655 ,  0.93986109,  1.02020406],\n",
       "       [-0.01254409,  1.22979253, -0.98019606],\n",
       "       [ 0.18552042,  1.08482681,  1.02020406],\n",
       "       [ 0.38358493, -0.48080297, -0.98019606],\n",
       "       [-0.30964085, -0.30684411,  1.02020406],\n",
       "       [ 0.97777845, -0.8287207 ,  1.02020406],\n",
       "       [ 0.97777845,  1.8676417 , -0.98019606],\n",
       "       [-0.01254409,  1.25878567, -0.98019606],\n",
       "       [-0.90383437,  2.27354572,  1.02020406],\n",
       "       [-1.20093113, -1.58254245, -0.98019606],\n",
       "       [ 2.1661655 , -0.79972756,  1.02020406],\n",
       "       [-1.39899564, -1.46656987,  1.02020406],\n",
       "       [ 0.38358493,  2.30253886,  1.02020406],\n",
       "       [ 0.77971394,  0.76590222, -0.98019606],\n",
       "       [-1.00286662, -0.30684411,  1.02020406],\n",
       "       [ 0.08648817,  0.76590222,  1.02020406],\n",
       "       [-1.00286662,  0.56295021,  1.02020406],\n",
       "       [ 0.28455268,  0.07006676,  1.02020406],\n",
       "       [ 0.68068169, -1.26361786,  1.02020406],\n",
       "       [-0.50770535, -0.01691267, -0.98019606],\n",
       "       [-1.79512465,  0.35999821, -0.98019606],\n",
       "       [-0.70576986,  0.12805305,  1.02020406],\n",
       "       [ 0.38358493,  0.30201192,  1.02020406],\n",
       "       [-0.30964085,  0.07006676, -0.98019606],\n",
       "       [-0.50770535,  2.30253886, -0.98019606],\n",
       "       [ 0.18552042,  0.04107362,  1.02020406],\n",
       "       [ 1.27487521,  2.21555943, -0.98019606],\n",
       "       [ 0.77971394,  0.27301877,  1.02020406],\n",
       "       [-0.30964085,  0.1570462 ,  1.02020406],\n",
       "       [-0.01254409, -0.53878926,  1.02020406],\n",
       "       [-0.21060859,  0.1570462 , -0.98019606],\n",
       "       [-0.11157634,  0.24402563, -0.98019606],\n",
       "       [-0.01254409, -0.24885782,  1.02020406],\n",
       "       [ 2.1661655 ,  1.11381995, -0.98019606],\n",
       "       [-1.79512465,  0.35999821, -0.98019606],\n",
       "       [ 1.86906873,  0.12805305,  1.02020406],\n",
       "       [ 0.38358493, -0.13288524,  1.02020406],\n",
       "       [-1.20093113,  0.30201192,  1.02020406],\n",
       "       [ 0.77971394,  1.37475825,  1.02020406],\n",
       "       [-0.30964085, -0.24885782,  1.02020406],\n",
       "       [-1.6960924 , -0.04590581, -0.98019606],\n",
       "       [-1.00286662, -0.74174127, -0.98019606],\n",
       "       [ 0.28455268,  0.50496393,  1.02020406],\n",
       "       [-0.11157634, -1.06066585, -0.98019606],\n",
       "       [-1.10189888,  0.59194336,  1.02020406],\n",
       "       [ 0.08648817, -0.79972756,  1.02020406],\n",
       "       [-1.00286662,  1.54871711,  1.02020406],\n",
       "       [-0.70576986,  1.40375139, -0.98019606],\n",
       "       [-1.29996338,  0.50496393,  1.02020406],\n",
       "       [-0.30964085,  0.04107362, -0.98019606],\n",
       "       [-0.11157634,  0.01208048,  1.02020406],\n",
       "       [-0.30964085, -0.88670699,  1.02020406],\n",
       "       [ 0.8787462 , -1.3505973 ,  1.02020406],\n",
       "       [-0.30964085,  2.24455257, -0.98019606],\n",
       "       [ 0.97777845,  1.98361427, -0.98019606],\n",
       "       [-1.20093113,  0.47597078,  1.02020406],\n",
       "       [-1.29996338,  0.27301877,  1.02020406],\n",
       "       [ 1.37390747,  1.98361427, -0.98019606],\n",
       "       [ 1.27487521, -1.3505973 ,  1.02020406],\n",
       "       [-0.30964085, -0.27785096, -0.98019606],\n",
       "       [-0.50770535,  1.25878567, -0.98019606],\n",
       "       [-0.80480212,  1.08482681,  1.02020406],\n",
       "       [ 0.97777845, -1.06066585,  1.02020406],\n",
       "       [ 0.28455268,  0.30201192, -0.98019606],\n",
       "       [ 0.97777845,  0.76590222, -0.98019606],\n",
       "       [-0.70576986, -1.49556302,  1.02020406],\n",
       "       [-0.70576986,  0.04107362, -0.98019606],\n",
       "       [ 0.48261718,  1.72267598,  1.02020406],\n",
       "       [ 2.06713324,  0.18603934, -0.98019606],\n",
       "       [-1.99318916, -0.74174127, -0.98019606],\n",
       "       [-0.21060859,  1.40375139,  1.02020406],\n",
       "       [ 0.38358493,  0.59194336, -0.98019606],\n",
       "       [ 0.8787462 , -1.14764529, -0.98019606],\n",
       "       [-1.20093113, -0.77073441, -0.98019606],\n",
       "       [ 0.18552042,  0.24402563,  1.02020406],\n",
       "       [ 0.77971394, -0.30684411,  1.02020406],\n",
       "       [ 2.06713324, -0.79972756, -0.98019606],\n",
       "       [ 0.77971394,  0.12805305, -0.98019606],\n",
       "       [-0.30964085,  0.6209365 ,  1.02020406],\n",
       "       [-1.00286662, -0.30684411, -0.98019606],\n",
       "       [ 0.18552042, -0.3648304 ,  1.02020406],\n",
       "       [ 2.06713324,  2.12857999,  1.02020406],\n",
       "       [ 1.86906873, -1.26361786, -0.98019606],\n",
       "       [ 1.37390747, -0.91570013, -0.98019606],\n",
       "       [ 0.8787462 ,  1.25878567, -0.98019606],\n",
       "       [ 1.47293972,  2.12857999, -0.98019606],\n",
       "       [-0.30964085, -1.23462472,  1.02020406],\n",
       "       [ 1.96810099,  0.91086794, -0.98019606],\n",
       "       [ 0.68068169, -0.71274813, -0.98019606],\n",
       "       [-1.49802789,  0.35999821, -0.98019606],\n",
       "       [ 0.77971394, -1.3505973 ,  1.02020406],\n",
       "       [ 0.38358493, -0.13288524,  1.02020406],\n",
       "       [-1.00286662,  0.41798449, -0.98019606],\n",
       "       [-0.01254409, -0.30684411,  1.02020406],\n",
       "       [-1.20093113,  0.41798449, -0.98019606],\n",
       "       [-0.90383437, -1.20563157, -0.98019606],\n",
       "       [-0.11157634,  0.04107362, -0.98019606],\n",
       "       [-1.59706014, -0.42281668, -0.98019606],\n",
       "       [ 0.97777845, -1.00267957, -0.98019606],\n",
       "       [ 1.07681071, -1.20563157,  1.02020406],\n",
       "       [-0.01254409, -0.13288524, -0.98019606],\n",
       "       [-1.10189888, -1.52455616, -0.98019606],\n",
       "       [ 0.77971394, -1.20563157,  1.02020406],\n",
       "       [ 0.97777845,  2.07059371,  1.02020406],\n",
       "       [-1.20093113, -1.52455616, -0.98019606],\n",
       "       [-0.30964085,  0.79489537, -0.98019606],\n",
       "       [ 0.08648817, -0.30684411, -0.98019606],\n",
       "       [-1.39899564, -1.23462472, -0.98019606],\n",
       "       [-0.60673761, -1.49556302,  1.02020406],\n",
       "       [ 0.77971394,  0.53395707,  1.02020406],\n",
       "       [-0.30964085, -0.33583725,  1.02020406],\n",
       "       [ 1.77003648, -0.27785096,  1.02020406],\n",
       "       [ 0.8787462 , -1.03167271,  1.02020406],\n",
       "       [ 0.18552042,  0.07006676, -0.98019606],\n",
       "       [-0.60673761,  0.8818748 ,  1.02020406],\n",
       "       [-1.89415691, -1.40858358, -0.98019606],\n",
       "       [-1.29996338,  0.59194336,  1.02020406],\n",
       "       [-0.30964085,  0.53395707,  1.02020406],\n",
       "       [-1.00286662, -1.089659  ,  1.02020406],\n",
       "       [ 1.17584296, -1.43757673, -0.98019606],\n",
       "       [ 0.18552042, -0.30684411,  1.02020406],\n",
       "       [ 1.17584296, -0.74174127, -0.98019606],\n",
       "       [-0.30964085,  0.07006676,  1.02020406],\n",
       "       [ 0.18552042,  2.09958685, -0.98019606],\n",
       "       [ 0.77971394, -1.089659  , -0.98019606],\n",
       "       [ 0.08648817,  0.04107362, -0.98019606],\n",
       "       [-1.79512465,  0.12805305,  1.02020406],\n",
       "       [-0.90383437,  0.1570462 ,  1.02020406],\n",
       "       [-0.70576986,  0.18603934,  1.02020406],\n",
       "       [ 0.8787462 , -1.29261101,  1.02020406],\n",
       "       [ 0.18552042, -0.24885782,  1.02020406],\n",
       "       [-0.4086731 ,  1.22979253,  1.02020406],\n",
       "       [-0.01254409,  0.30201192, -0.98019606],\n",
       "       [ 0.38358493,  0.1570462 , -0.98019606],\n",
       "       [ 0.8787462 , -0.65476184, -0.98019606],\n",
       "       [ 0.08648817,  0.1570462 , -0.98019606],\n",
       "       [-1.89415691, -1.29261101,  1.02020406],\n",
       "       [-0.11157634,  0.30201192, -0.98019606],\n",
       "       [-0.21060859, -0.27785096,  1.02020406],\n",
       "       [ 0.28455268, -0.50979612,  1.02020406],\n",
       "       [-0.21060859,  1.6067034 ,  1.02020406],\n",
       "       [ 0.97777845, -1.17663843, -0.98019606],\n",
       "       [-0.21060859,  1.63569655, -0.98019606],\n",
       "       [ 1.27487521,  1.8676417 , -0.98019606],\n",
       "       [-1.10189888, -0.3648304 , -0.98019606],\n",
       "       [-0.01254409,  0.04107362,  1.02020406],\n",
       "       [ 0.08648817, -0.24885782, -0.98019606],\n",
       "       [-1.59706014, -1.23462472, -0.98019606],\n",
       "       [-0.50770535, -0.27785096, -0.98019606],\n",
       "       [ 0.97777845,  0.12805305,  1.02020406],\n",
       "       [ 1.96810099, -1.3505973 , -0.98019606],\n",
       "       [ 1.47293972,  0.07006676,  1.02020406],\n",
       "       [-0.60673761,  1.37475825, -0.98019606],\n",
       "       [ 1.57197197,  0.01208048,  1.02020406],\n",
       "       [-0.80480212,  0.30201192,  1.02020406],\n",
       "       [ 1.96810099,  0.73690908, -0.98019606],\n",
       "       [-1.20093113, -0.50979612, -0.98019606],\n",
       "       [ 0.68068169,  0.27301877,  1.02020406],\n",
       "       [-1.39899564, -0.42281668,  1.02020406],\n",
       "       [ 0.18552042,  0.1570462 ,  1.02020406],\n",
       "       [-0.50770535, -1.20563157, -0.98019606],\n",
       "       [ 0.58164944,  2.01260742, -0.98019606],\n",
       "       [-1.59706014, -1.49556302,  1.02020406],\n",
       "       [-0.50770535, -0.53878926, -0.98019606],\n",
       "       [ 0.48261718,  1.83864855, -0.98019606],\n",
       "       [-1.39899564, -1.089659  , -0.98019606],\n",
       "       [ 0.77971394, -1.37959044, -0.98019606],\n",
       "       [-0.30964085, -0.42281668,  1.02020406],\n",
       "       [ 1.57197197,  0.99784738, -0.98019606],\n",
       "       [ 0.97777845,  1.43274454, -0.98019606],\n",
       "       [-0.30964085, -0.48080297,  1.02020406],\n",
       "       [-0.11157634,  2.15757314,  1.02020406],\n",
       "       [-1.49802789, -0.1038921 , -0.98019606],\n",
       "       [-0.11157634,  1.95462113, -0.98019606],\n",
       "       [-0.70576986, -0.33583725,  1.02020406],\n",
       "       [-0.50770535, -0.8287207 , -0.98019606],\n",
       "       [ 0.68068169, -1.37959044, -0.98019606],\n",
       "       [-0.80480212, -1.58254245,  1.02020406],\n",
       "       [-1.89415691, -1.46656987,  1.02020406],\n",
       "       [ 1.07681071,  0.12805305,  1.02020406],\n",
       "       [ 0.08648817,  1.51972397,  1.02020406],\n",
       "       [-0.30964085,  0.09905991,  1.02020406],\n",
       "       [ 0.08648817,  0.04107362,  1.02020406],\n",
       "       [-1.39899564, -1.3505973 ,  1.02020406],\n",
       "       [ 0.28455268,  0.07006676, -0.98019606],\n",
       "       [-0.90383437,  0.38899135, -0.98019606],\n",
       "       [ 1.57197197, -1.26361786, -0.98019606],\n",
       "       [-0.30964085, -0.74174127, -0.98019606],\n",
       "       [-0.11157634,  0.1570462 ,  1.02020406],\n",
       "       [-0.90383437, -0.65476184, -0.98019606],\n",
       "       [-0.70576986, -0.04590581, -0.98019606],\n",
       "       [ 0.38358493, -0.45180983,  1.02020406],\n",
       "       [-0.80480212,  1.89663484,  1.02020406],\n",
       "       [ 1.37390747,  1.28777882, -0.98019606],\n",
       "       [ 1.17584296, -0.97368642, -0.98019606],\n",
       "       [ 1.77003648,  1.83864855,  1.02020406],\n",
       "       [-0.90383437, -0.24885782,  1.02020406],\n",
       "       [-0.80480212,  0.56295021,  1.02020406],\n",
       "       [-1.20093113, -1.5535493 ,  1.02020406],\n",
       "       [-0.50770535, -1.11865214,  1.02020406],\n",
       "       [ 0.28455268,  0.07006676, -0.98019606],\n",
       "       [-0.21060859, -1.06066585,  1.02020406],\n",
       "       [ 1.67100423,  1.6067034 , -0.98019606],\n",
       "       [ 0.97777845,  1.78066227, -0.98019606],\n",
       "       [ 0.28455268,  0.04107362, -0.98019606],\n",
       "       [-0.80480212, -0.21986468, -0.98019606],\n",
       "       [-0.11157634,  0.07006676,  1.02020406],\n",
       "       [ 0.28455268, -0.19087153, -0.98019606],\n",
       "       [ 1.96810099, -0.65476184, -0.98019606],\n",
       "       [-0.80480212,  1.3457651 , -0.98019606],\n",
       "       [-1.79512465, -0.59677555,  1.02020406],\n",
       "       [-0.11157634,  0.12805305,  1.02020406],\n",
       "       [ 0.28455268, -0.30684411,  1.02020406],\n",
       "       [ 1.07681071,  0.56295021,  1.02020406],\n",
       "       [-1.00286662,  0.27301877,  1.02020406],\n",
       "       [ 1.47293972,  0.35999821, -0.98019606],\n",
       "       [ 0.18552042, -0.3648304 ,  1.02020406],\n",
       "       [ 2.1661655 , -1.03167271,  1.02020406],\n",
       "       [-0.30964085,  1.11381995,  1.02020406],\n",
       "       [-1.6960924 ,  0.07006676,  1.02020406],\n",
       "       [-0.01254409,  0.04107362,  1.02020406],\n",
       "       [ 0.08648817,  1.05583366,  1.02020406],\n",
       "       [-0.11157634, -0.3648304 , -0.98019606],\n",
       "       [-1.20093113,  0.07006676, -0.98019606],\n",
       "       [-0.30964085, -1.3505973 , -0.98019606],\n",
       "       [ 1.57197197,  1.11381995, -0.98019606],\n",
       "       [-0.80480212, -1.52455616,  1.02020406],\n",
       "       [ 0.08648817,  1.8676417 ,  1.02020406],\n",
       "       [-0.90383437, -0.77073441,  1.02020406],\n",
       "       [-0.50770535, -0.77073441,  1.02020406],\n",
       "       [-0.30964085, -0.91570013,  1.02020406],\n",
       "       [ 0.28455268, -0.71274813,  1.02020406],\n",
       "       [ 0.28455268,  0.07006676, -0.98019606],\n",
       "       [ 0.08648817,  1.8676417 , -0.98019606],\n",
       "       [-1.10189888,  1.95462113, -0.98019606],\n",
       "       [-1.6960924 , -1.5535493 , -0.98019606],\n",
       "       [-1.20093113, -1.089659  ,  1.02020406],\n",
       "       [-0.70576986, -0.1038921 ,  1.02020406],\n",
       "       [ 0.08648817,  0.09905991, -0.98019606],\n",
       "       [ 0.28455268,  0.27301877,  1.02020406],\n",
       "       [ 0.8787462 , -0.5677824 , -0.98019606],\n",
       "       [ 0.28455268, -1.14764529, -0.98019606],\n",
       "       [-0.11157634,  0.67892279, -0.98019606],\n",
       "       [ 2.1661655 , -0.68375498, -0.98019606],\n",
       "       [-1.29996338, -1.37959044,  1.02020406],\n",
       "       [-1.00286662, -0.94469328, -0.98019606],\n",
       "       [-0.01254409, -0.42281668, -0.98019606],\n",
       "       [-0.21060859, -0.45180983, -0.98019606],\n",
       "       [-1.79512465, -0.97368642, -0.98019606],\n",
       "       [ 1.77003648,  0.99784738, -0.98019606],\n",
       "       [ 0.18552042, -0.3648304 ,  1.02020406],\n",
       "       [ 0.38358493,  1.11381995, -0.98019606],\n",
       "       [-1.79512465, -1.3505973 , -0.98019606],\n",
       "       [ 0.18552042, -0.13288524,  1.02020406],\n",
       "       [ 0.8787462 , -1.43757673,  1.02020406],\n",
       "       [-1.99318916,  0.47597078, -0.98019606],\n",
       "       [-0.30964085,  0.27301877,  1.02020406],\n",
       "       [ 1.86906873, -1.06066585, -0.98019606],\n",
       "       [-0.4086731 ,  0.07006676, -0.98019606],\n",
       "       [ 1.07681071, -0.88670699, -0.98019606],\n",
       "       [-1.10189888, -1.11865214, -0.98019606],\n",
       "       [-1.89415691,  0.01208048,  1.02020406],\n",
       "       [ 0.08648817,  0.27301877, -0.98019606],\n",
       "       [-1.20093113,  0.33100506,  1.02020406],\n",
       "       [-1.29996338,  0.30201192,  1.02020406],\n",
       "       [-1.00286662,  0.44697764, -0.98019606],\n",
       "       [ 1.67100423, -0.88670699,  1.02020406],\n",
       "       [ 1.17584296,  0.53395707, -0.98019606],\n",
       "       [ 1.07681071,  0.53395707,  1.02020406],\n",
       "       [ 1.37390747,  2.331532  ,  1.02020406],\n",
       "       [-0.30964085, -0.13288524, -0.98019606],\n",
       "       [ 0.38358493, -0.45180983,  1.02020406],\n",
       "       [-0.4086731 , -0.77073441,  1.02020406],\n",
       "       [-0.11157634, -0.50979612,  1.02020406],\n",
       "       [ 0.97777845, -1.14764529, -0.98019606],\n",
       "       [-0.90383437, -0.77073441,  1.02020406],\n",
       "       [-0.21060859, -0.50979612,  1.02020406],\n",
       "       [-1.10189888, -0.45180983, -0.98019606],\n",
       "       [-1.20093113,  1.40375139, -0.98019606]])"
      ]
     },
     "execution_count": 20,
     "metadata": {},
     "output_type": "execute_result"
    }
   ],
   "source": [
    "x_train"
   ]
  },
  {
   "cell_type": "code",
   "execution_count": 21,
   "metadata": {},
   "outputs": [],
   "source": [
    "from sklearn.linear_model import LogisticRegression"
   ]
  },
  {
   "cell_type": "code",
   "execution_count": 22,
   "metadata": {},
   "outputs": [],
   "source": [
    "reg = LogisticRegression()"
   ]
  },
  {
   "cell_type": "code",
   "execution_count": 23,
   "metadata": {},
   "outputs": [
    {
     "data": {
      "text/plain": [
       "LogisticRegression()"
      ]
     },
     "execution_count": 23,
     "metadata": {},
     "output_type": "execute_result"
    }
   ],
   "source": [
    "reg.fit(x_train, y_train)"
   ]
  },
  {
   "cell_type": "markdown",
   "metadata": {},
   "source": [
    "## Check accuracy "
   ]
  },
  {
   "cell_type": "code",
   "execution_count": 24,
   "metadata": {},
   "outputs": [],
   "source": [
    "predictions = reg.predict(x_test)"
   ]
  },
  {
   "cell_type": "code",
   "execution_count": 25,
   "metadata": {},
   "outputs": [],
   "source": [
    "from sklearn.metrics import accuracy_score"
   ]
  },
  {
   "cell_type": "code",
   "execution_count": 26,
   "metadata": {},
   "outputs": [
    {
     "data": {
      "text/plain": [
       "0.9"
      ]
     },
     "execution_count": 26,
     "metadata": {},
     "output_type": "execute_result"
    }
   ],
   "source": [
    "accuracy_score(y_test, predictions)"
   ]
  },
  {
   "cell_type": "code",
   "execution_count": 27,
   "metadata": {},
   "outputs": [],
   "source": [
    "from sklearn.metrics import confusion_matrix"
   ]
  },
  {
   "cell_type": "code",
   "execution_count": 28,
   "metadata": {},
   "outputs": [
    {
     "data": {
      "text/plain": [
       "array([[65,  3],\n",
       "       [ 7, 25]])"
      ]
     },
     "execution_count": 28,
     "metadata": {},
     "output_type": "execute_result"
    }
   ],
   "source": [
    "confusion_matrix(y_test, predictions)"
   ]
  },
  {
   "cell_type": "code",
   "execution_count": 29,
   "metadata": {},
   "outputs": [
    {
     "data": {
      "text/plain": [
       "0.9"
      ]
     },
     "execution_count": 29,
     "metadata": {},
     "output_type": "execute_result"
    }
   ],
   "source": [
    "(65+25)/(65+25+7+3)"
   ]
  }
 ],
 "metadata": {
  "kernelspec": {
   "display_name": "Python 3",
   "language": "python",
   "name": "python3"
  },
  "language_info": {
   "codemirror_mode": {
    "name": "ipython",
    "version": 3
   },
   "file_extension": ".py",
   "mimetype": "text/x-python",
   "name": "python",
   "nbconvert_exporter": "python",
   "pygments_lexer": "ipython3",
   "version": "3.8.10"
  }
 },
 "nbformat": 4,
 "nbformat_minor": 5
}
